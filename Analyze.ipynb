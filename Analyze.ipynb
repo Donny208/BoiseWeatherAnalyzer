{
 "cells": [
  {
   "cell_type": "markdown",
   "source": [
    "# Analzying Boise's Rain Patterns"
   ],
   "metadata": {
    "collapsed": false,
    "pycharm": {
     "name": "#%% md\n"
    }
   }
  },
  {
   "cell_type": "code",
   "execution_count": 5,
   "outputs": [],
   "source": [
    "import pandas as pd\n",
    "import matplotlib.pyplot as plt"
   ],
   "metadata": {
    "collapsed": false,
    "pycharm": {
     "name": "#%%\n"
    }
   }
  },
  {
   "cell_type": "code",
   "execution_count": 44,
   "outputs": [
    {
     "data": {
      "text/plain": "       year  month  day  precipitation  weekday\n0      1975      1    1           0.02        2\n1      1975      1    2           0.00        3\n2      1975      1    3           0.00        4\n3      1975      1    4           0.01        5\n4      1975      1    5           0.05        6\n...     ...    ...  ...            ...      ...\n17318  2022      6    1           0.00        2\n17319  2022      6    2           0.00        3\n17320  2022      6    3           0.00        4\n17321  2022      6    4           0.05        5\n17322  2022      6    5           0.17        6\n\n[17323 rows x 5 columns]",
      "text/html": "<div>\n<style scoped>\n    .dataframe tbody tr th:only-of-type {\n        vertical-align: middle;\n    }\n\n    .dataframe tbody tr th {\n        vertical-align: top;\n    }\n\n    .dataframe thead th {\n        text-align: right;\n    }\n</style>\n<table border=\"1\" class=\"dataframe\">\n  <thead>\n    <tr style=\"text-align: right;\">\n      <th></th>\n      <th>year</th>\n      <th>month</th>\n      <th>day</th>\n      <th>precipitation</th>\n      <th>weekday</th>\n    </tr>\n  </thead>\n  <tbody>\n    <tr>\n      <th>0</th>\n      <td>1975</td>\n      <td>1</td>\n      <td>1</td>\n      <td>0.02</td>\n      <td>2</td>\n    </tr>\n    <tr>\n      <th>1</th>\n      <td>1975</td>\n      <td>1</td>\n      <td>2</td>\n      <td>0.00</td>\n      <td>3</td>\n    </tr>\n    <tr>\n      <th>2</th>\n      <td>1975</td>\n      <td>1</td>\n      <td>3</td>\n      <td>0.00</td>\n      <td>4</td>\n    </tr>\n    <tr>\n      <th>3</th>\n      <td>1975</td>\n      <td>1</td>\n      <td>4</td>\n      <td>0.01</td>\n      <td>5</td>\n    </tr>\n    <tr>\n      <th>4</th>\n      <td>1975</td>\n      <td>1</td>\n      <td>5</td>\n      <td>0.05</td>\n      <td>6</td>\n    </tr>\n    <tr>\n      <th>...</th>\n      <td>...</td>\n      <td>...</td>\n      <td>...</td>\n      <td>...</td>\n      <td>...</td>\n    </tr>\n    <tr>\n      <th>17318</th>\n      <td>2022</td>\n      <td>6</td>\n      <td>1</td>\n      <td>0.00</td>\n      <td>2</td>\n    </tr>\n    <tr>\n      <th>17319</th>\n      <td>2022</td>\n      <td>6</td>\n      <td>2</td>\n      <td>0.00</td>\n      <td>3</td>\n    </tr>\n    <tr>\n      <th>17320</th>\n      <td>2022</td>\n      <td>6</td>\n      <td>3</td>\n      <td>0.00</td>\n      <td>4</td>\n    </tr>\n    <tr>\n      <th>17321</th>\n      <td>2022</td>\n      <td>6</td>\n      <td>4</td>\n      <td>0.05</td>\n      <td>5</td>\n    </tr>\n    <tr>\n      <th>17322</th>\n      <td>2022</td>\n      <td>6</td>\n      <td>5</td>\n      <td>0.17</td>\n      <td>6</td>\n    </tr>\n  </tbody>\n</table>\n<p>17323 rows × 5 columns</p>\n</div>"
     },
     "execution_count": 44,
     "metadata": {},
     "output_type": "execute_result"
    }
   ],
   "source": [
    "df = pd.read_csv(\"./weather.csv\")\n",
    "df"
   ],
   "metadata": {
    "collapsed": false,
    "pycharm": {
     "name": "#%%\n"
    }
   }
  },
  {
   "cell_type": "markdown",
   "source": [
    "## Calculating rainy weekend vs week days"
   ],
   "metadata": {
    "collapsed": false,
    "pycharm": {
     "name": "#%% md\n"
    }
   }
  },
  {
   "cell_type": "code",
   "execution_count": 85,
   "outputs": [
    {
     "data": {
      "text/plain": "[583, 621, 589, 619, 579, 617, 620]"
     },
     "execution_count": 85,
     "metadata": {},
     "output_type": "execute_result"
    }
   ],
   "source": [
    "include_friday_as_weeked = True\n",
    "rainy_days = df.loc[df['precipitation'] > 0]\n",
    "rainy_weekend = rainy_days.loc[rainy_days['weekday'] > 3 if include_friday_as_weeked else 4]\n",
    "rainy_weekday = rainy_days.loc[rainy_days['weekday'] < 6 if include_friday_as_weeked else 5]"
   ],
   "metadata": {
    "collapsed": false,
    "pycharm": {
     "name": "#%%\n"
    }
   }
  },
  {
   "cell_type": "code",
   "execution_count": 89,
   "outputs": [
    {
     "data": {
      "text/plain": "<Figure size 432x288 with 1 Axes>",
      "image/png": "[encoded data removed]"
     },
     "metadata": {
      "needs_background": "light"
     },
     "output_type": "display_data"
    }
   ],
   "source": [
    "fig = plt.figure()\n",
    "ax = fig.add_axes([0,0,2,2])\n",
    "days = ['Monday', 'Tuesday', 'Wednesday', 'Thursday', 'Friday', 'Saturday', 'Sunday']\n",
    "values = [len(rainy_days.loc[rainy_days['weekday'] == x]) for x in range(0,7)]\n",
    "ax.bar(days,values)\n",
    "plt.show()"
   ],
   "metadata": {
    "collapsed": false,
    "pycharm": {
     "name": "#%%\n"
    }
   }
  }
 ],
 "metadata": {
  "kernelspec": {
   "display_name": "Python 3",
   "language": "python",
   "name": "python3"
  },
  "language_info": {
   "codemirror_mode": {
    "name": "ipython",
    "version": 2
   },
   "file_extension": ".py",
   "mimetype": "text/x-python",
   "name": "python",
   "nbconvert_exporter": "python",
   "pygments_lexer": "ipython2",
   "version": "2.7.6"
  }
 },
 "nbformat": 4,
 "nbformat_minor": 0
}